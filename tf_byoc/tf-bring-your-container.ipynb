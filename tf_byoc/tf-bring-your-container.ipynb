{
 "cells": [
  {
   "cell_type": "markdown",
   "metadata": {},
   "source": [
    "# Building your own TensorFlow container\n",
    "\n",
    "With Amazon SageMaker, you can package your own algorithms that can then be trained and deployed in the SageMaker environment. This notebook guides you through an example using TensorFlow that shows you how to build a Docker container for SageMaker and use it for training and inference.\n",
    "\n",
    "By packaging an algorithm in a container, you can bring almost any code to the Amazon SageMaker environment, regardless of programming language, environment, framework, or dependencies. \n",
    "\n",
    "1. [Building your own TensorFlow container](#Building-your-own-tensorflow-container)\n",
    "  1. [When should I build my own algorithm container?](#When-should-I-build-my-own-algorithm-container?)\n",
    "  1. [Permissions](#Permissions)\n",
    "  1. [The example](#The-example)\n",
    "  1. [The presentation](#The-presentation)\n",
    "1. [Part 1: Packaging and Uploading your Algorithm for use with Amazon SageMaker](#Part-1:-Packaging-and-Uploading-your-Algorithm-for-use-with-Amazon-SageMaker)\n",
    "    1. [Building and registering the container](#Building-and-registering-the-container)\n",
    "  1. [Testing your algorithm on your local machine](#Testing-your-algorithm-on-your-local-machine)\n",
    "1. [Part 2: Training and Hosting your Algorithm in Amazon SageMaker](#Part-2:-Training-and-Hosting-your-Algorithm-in-Amazon-SageMaker)\n",
    "  1. [Set up the environment](#Set-up-the-environment)\n",
    "  1. [Create the session](#Create-the-session)\n",
    "  1. [Upload the data for training](#Upload-the-data-for-training)\n",
    "  1. [Training On SageMaker](#Training-on-SageMaker)\n",
    "  1. [Optional cleanup](#Optional-cleanup)  \n",
    "1. [Reference](#Reference)\n",
    "\n",
    "_or_ I'm impatient, just [let me see the code](#The-Dockerfile)!\n",
    "\n",
    "## When should I build my own algorithm container?\n",
    "\n",
    "You may not need to create a container to bring your own code to Amazon SageMaker. When you are using a framework such as Apache MXNet or TensorFlow that has direct support in SageMaker, you can simply supply the Python code that implements your algorithm using the SDK entry points for that framework. This set of supported frameworks is regularly added to, so you should check the current list to determine whether your algorithm is written in one of these common machine learning environments.\n",
    "\n",
    "Even if there is direct SDK support for your environment or framework, you may find it more effective to build your own container. If the code that implements your algorithm is quite complex or you need special additions to the framework, building your own container may be the right choice.\n",
    "\n",
    "Some of the reasons to build an already supported framework container are:\n",
    "1. A specific version isn't supported.\n",
    "2. Configure and install your dependencies and environment.\n",
    "3. Use a different training/hosting solution than provided.\n",
    "\n",
    "This walkthrough shows that it is quite straightforward to build your own container. So you can still use SageMaker even if your use case is not covered by the deep learning containers that we've built for you.\n",
    "\n",
    "## Permissions\n",
    "\n",
    "Running this notebook requires permissions in addition to the normal `SageMakerFullAccess` permissions. This is because it creates new repositories in Amazon ECR. The easiest way to add these permissions is simply to add the managed policy `AmazonEC2ContainerRegistryFullAccess` to the role that you used to start your notebook instance. There's no need to restart your notebook instance when you do this, the new permissions will be available immediately.\n",
    "\n",
    "## The example\n",
    "\n",
    "In this example we show how to package a custom TensorFlow container with a Python example which works with the CIFAR-10 dataset and uses TensorFlow Serving for inference. However, different inference solutions other than TensorFlow Serving can be used by modifying the docker container.\n",
    "\n",
    "In this example, we use a single image to support training and hosting. This simplifies the procedure because we only need to manage one image for both tasks. Sometimes you may want separate images for training and hosting because they have different requirements. In this case, separate the parts discussed below into separate Dockerfiles and build two images. Choosing whether to use a single image or two images is a matter of what is most convenient for you to develop and manage.\n",
    "\n",
    "If you're only using Amazon SageMaker for training or hosting, but not both, only the functionality used needs to be built into your container.\n",
    "\n",
    "[CIFAR-10]: http://www.cs.toronto.edu/~kriz/cifar.html\n",
    "\n",
    "## The presentation\n",
    "\n",
    "This presentation is divided into two parts: _building_ the container and _using_ the container."
   ]
  },
  {
   "cell_type": "code",
   "execution_count": 1,
   "metadata": {},
   "outputs": [
    {
     "name": "stdout",
     "output_type": "stream",
     "text": [
      "# Copyright 2017-2018 Amazon.com, Inc. or its affiliates. All Rights Reserved.\n",
      "#\n",
      "# Licensed under the Apache License, Version 2.0 (the \"License\"). You\n",
      "# may not use this file except in compliance with the License. A copy of\n",
      "# the License is located at\n",
      "#\n",
      "#     http://aws.amazon.com/apache2.0/\n",
      "#\n",
      "# or in the \"license\" file accompanying this file. This file is\n",
      "# distributed on an \"AS IS\" BASIS, WITHOUT WARRANTIES OR CONDITIONS OF\n",
      "# ANY KIND, either express or implied. See the License for the specific\n",
      "# language governing permissions and limitations under the License.\n",
      "\n",
      "# For more information on creating a Dockerfile\n",
      "# https://docs.docker.com/compose/gettingstarted/#step-2-create-a-dockerfile\n",
      "FROM nvcr.io/nvidia/tensorflow:19.11-tf2-py3\n",
      "\n",
      "RUN apt-get update && apt-get install -y --no-install-recommends nginx curl\n",
      "\n",
      "# Download TensorFlow Serving\n",
      "# https://www.tensorflow.org/serving/setup#installing_the_modelserver\n",
      "RUN echo \"deb [arch=amd64] http://storage.googleapis.com/tensorflow-serving-apt stable tensorflow-model-server tensorflow-model-server-universal\" | tee /etc/apt/sources.list.d/tensorflow-serving.list\n",
      "RUN curl https://storage.googleapis.com/tensorflow-serving-apt/tensorflow-serving.release.pub.gpg | apt-key add -\n",
      "RUN apt-get update && apt-get install tensorflow-model-server\n",
      "\n",
      "ENV PATH=\"/opt/ml/code:${PATH}\"\n",
      "\n",
      "# /opt/ml and all subdirectories are utilized by SageMaker, we use the /code subdirectory to store our user code.\n",
      "COPY /cifar10 /opt/ml/code\n",
      "WORKDIR /opt/ml/code"
     ]
    }
   ],
   "source": [
    "!cat container/Dockerfile"
   ]
  },
  {
   "cell_type": "markdown",
   "metadata": {},
   "source": [
    "### Building and registering the container\n",
    "\n",
    "The following shell code shows how to build the container image using `docker build` and push the container image to ECR using `docker push`. This code is also available as the shell script `container/build-and-push.sh`, which you can run as `build-and-push.sh sagemaker-tf-cifar10-example` to build the image `sagemaker-tf-cifar10-example`. \n",
    "\n",
    "This code looks for an ECR repository in the account you're using and the current default region (if you're using a SageMaker notebook instance, this is the region where the notebook instance was created). If the repository doesn't exist, the script will create it."
   ]
  },
  {
   "cell_type": "code",
   "execution_count": 13,
   "metadata": {
    "scrolled": true
   },
   "outputs": [
    {
     "name": "stdout",
     "output_type": "stream",
     "text": [
      "Login Succeeded\n",
      "Sending build context to Docker daemon   38.4kB\n",
      "Step 1/10 : FROM nvcr.io/nvidia/tensorflow:19.11-tf2-py3\n",
      " ---> 445689316277\n",
      "Step 2/10 : RUN apt-get update && apt-get install -y --no-install-recommends nginx curl\n",
      " ---> Using cache\n",
      " ---> c657f7d5914e\n",
      "Step 3/10 : RUN echo \"deb [arch=amd64] http://storage.googleapis.com/tensorflow-serving-apt stable tensorflow-model-server tensorflow-model-server-universal\" | tee /etc/apt/sources.list.d/tensorflow-serving.list\n",
      " ---> Using cache\n",
      " ---> 2959dd1843ff\n",
      "Step 4/10 : RUN curl https://storage.googleapis.com/tensorflow-serving-apt/tensorflow-serving.release.pub.gpg | apt-key add -\n",
      " ---> Using cache\n",
      " ---> 83d73d73db75\n",
      "Step 5/10 : RUN apt-get update && apt-get install tensorflow-model-server\n",
      " ---> Using cache\n",
      " ---> c1b25222d126\n",
      "Step 6/10 : RUN pip install boto3\n",
      " ---> Running in 6777879afdb9\n",
      "Collecting boto3\n",
      "  Downloading https://files.pythonhosted.org/packages/3c/f4/41c1d8a69b07b2a087a7e552cbed21111ff36706fec2f1ba9983fba95771/boto3-1.14.20-py2.py3-none-any.whl (128kB)\n",
      "Collecting s3transfer<0.4.0,>=0.3.0\n",
      "  Downloading https://files.pythonhosted.org/packages/69/79/e6afb3d8b0b4e96cefbdc690f741d7dd24547ff1f94240c997a26fa908d3/s3transfer-0.3.3-py2.py3-none-any.whl (69kB)\n",
      "Collecting jmespath<1.0.0,>=0.7.1\n",
      "  Downloading https://files.pythonhosted.org/packages/07/cb/5f001272b6faeb23c1c9e0acc04d48eaaf5c862c17709d20e3469c6e0139/jmespath-0.10.0-py2.py3-none-any.whl\n",
      "Collecting botocore<1.18.0,>=1.17.20\n",
      "  Downloading https://files.pythonhosted.org/packages/87/a6/1710181d97a6763ccced7f69fff8beea751633af2a101c3d02826cf4acce/botocore-1.17.20-py2.py3-none-any.whl (6.3MB)\n",
      "Requirement already satisfied: python-dateutil<3.0.0,>=2.1 in /usr/local/lib/python3.6/dist-packages (from botocore<1.18.0,>=1.17.20->boto3) (2.8.1)\n",
      "Collecting docutils<0.16,>=0.10\n",
      "  Downloading https://files.pythonhosted.org/packages/22/cd/a6aa959dca619918ccb55023b4cb151949c64d4d5d55b3f4ffd7eee0c6e8/docutils-0.15.2-py3-none-any.whl (547kB)\n",
      "Requirement already satisfied: urllib3<1.26,>=1.20; python_version != \"3.4\" in /usr/local/lib/python3.6/dist-packages (from botocore<1.18.0,>=1.17.20->boto3) (1.25.7)\n",
      "Requirement already satisfied: six>=1.5 in /usr/local/lib/python3.6/dist-packages (from python-dateutil<3.0.0,>=2.1->botocore<1.18.0,>=1.17.20->boto3) (1.13.0)\n",
      "Installing collected packages: docutils, jmespath, botocore, s3transfer, boto3\n",
      "Successfully installed boto3-1.14.20 botocore-1.17.20 docutils-0.15.2 jmespath-0.10.0 s3transfer-0.3.3\n",
      "\u001b[91mWARNING: You are using pip version 19.3.1; however, version 20.1.1 is available.\n",
      "You should consider upgrading via the 'pip install --upgrade pip' command.\n",
      "\u001b[0mRemoving intermediate container 6777879afdb9\n",
      " ---> 91cdc5eae071\n",
      "Step 7/10 : ENV PATH=\"/opt/ml/code:${PATH}\"\n",
      " ---> Running in eec56cf41611\n",
      "Removing intermediate container eec56cf41611\n",
      " ---> d0a8775bf836\n",
      "Step 8/10 : COPY /cifar10 /opt/ml/code\n",
      " ---> 530faa6d06e1\n",
      "Step 9/10 : COPY .aws /root/.aws\n",
      "The push refers to repository [209419068016.dkr.ecr.us-east-1.amazonaws.com/v1-sagemaker-ngc-tf21911-example]\n",
      "264e9008fe17: Preparing\n",
      "d7560acb5804: Preparing\n",
      "68b96556e637: Preparing\n",
      "827cbfa27659: Preparing\n",
      "d43f1f26bf85: Preparing\n",
      "9dd3122bbb29: Preparing\n",
      "b0d61cbbf82b: Preparing\n",
      "b69007ff78b4: Preparing\n",
      "4da47c3967bd: Preparing\n",
      "0841a0f66fa2: Preparing\n",
      "1f8ffba58b5b: Preparing\n",
      "6237f614c34b: Preparing\n",
      "39a5ac1ec676: Preparing\n",
      "b95ba0ce0d05: Preparing\n",
      "964ec2207535: Preparing\n",
      "5316bb670a64: Preparing\n",
      "7ff24a46c319: Preparing\n",
      "ffe2bf41fa2b: Preparing\n",
      "4ebd4a62fa18: Preparing\n",
      "aaca97dc6b81: Preparing\n",
      "a51305765e40: Preparing\n",
      "5dda9a74c409: Preparing\n",
      "2e24bb66a835: Preparing\n",
      "459970c695fe: Preparing\n",
      "bc3622fcfac4: Preparing\n",
      "062f8292fa36: Preparing\n",
      "295cd596d59e: Preparing\n",
      "0e2d27f496bf: Preparing\n",
      "9c8e65977edb: Preparing\n",
      "be79ee04c7cb: Preparing\n",
      "7455d5e9669c: Preparing\n",
      "e7eaf04b0a7c: Preparing\n",
      "6e87e486530a: Preparing\n",
      "b1d3bceeb07f: Preparing\n",
      "07d355b6a56c: Preparing\n",
      "a0bebe136df7: Preparing\n",
      "111a107b0d73: Preparing\n",
      "e66c6ff180c5: Preparing\n",
      "f71fbaa8d7ac: Preparing\n",
      "3f04b5de30fe: Preparing\n",
      "b716a524126b: Preparing\n",
      "3510e2a8bb18: Preparing\n",
      "cfa9a81e4294: Preparing\n",
      "d7cbcee43962: Preparing\n",
      "c37abfc1104a: Preparing\n",
      "4a461b14e46a: Preparing\n",
      "2fd758fbadbe: Preparing\n",
      "221e6eae7d02: Preparing\n",
      "29376ed98ab6: Preparing\n",
      "9d95fde9a949: Preparing\n",
      "58bdc6c643be: Preparing\n",
      "565c2c6c1ca7: Preparing\n",
      "adedafa15dc0: Preparing\n",
      "508c51636b24: Preparing\n",
      "da726e533907: Preparing\n",
      "ed4756d335c4: Preparing\n",
      "3c9a751db107: Preparing\n",
      "beb23c3afc15: Preparing\n",
      "5e264a05c849: Preparing\n",
      "2106c85f8c72: Preparing\n",
      "de6c5dc71cb4: Preparing\n",
      "ae4e367d4ed5: Preparing\n",
      "adef6c78ff23: Preparing\n",
      "f8f61fdf7ce4: Preparing\n",
      "f73c85960e15: Preparing\n",
      "e35c1be53e84: Preparing\n",
      "e0b3afb09dc3: Preparing\n",
      "6c01b5a53aac: Preparing\n",
      "2c6ac8e5063e: Preparing\n",
      "cc967c529ced: Preparing\n",
      "b1d3bceeb07f: Waiting\n",
      "07d355b6a56c: Waiting\n",
      "a0bebe136df7: Waiting\n",
      "111a107b0d73: Waiting\n",
      "da726e533907: Waiting\n",
      "e66c6ff180c5: Waiting\n",
      "ed4756d335c4: Waiting\n",
      "f71fbaa8d7ac: Waiting\n",
      "3c9a751db107: Waiting\n",
      "3f04b5de30fe: Waiting\n",
      "beb23c3afc15: Waiting\n",
      "9dd3122bbb29: Waiting\n",
      "b716a524126b: Waiting\n",
      "5e264a05c849: Waiting\n",
      "3510e2a8bb18: Waiting\n",
      "b0d61cbbf82b: Waiting\n",
      "2106c85f8c72: Waiting\n",
      "b69007ff78b4: Waiting\n",
      "cfa9a81e4294: Waiting\n",
      "de6c5dc71cb4: Waiting\n",
      "d7cbcee43962: Waiting\n",
      "4da47c3967bd: Waiting\n",
      "c37abfc1104a: Waiting\n",
      "0841a0f66fa2: Waiting\n",
      "ae4e367d4ed5: Waiting\n",
      "4a461b14e46a: Waiting\n",
      "1f8ffba58b5b: Waiting\n",
      "6237f614c34b: Waiting\n",
      "2fd758fbadbe: Waiting\n",
      "39a5ac1ec676: Waiting\n",
      "221e6eae7d02: Waiting\n",
      "b95ba0ce0d05: Waiting\n",
      "29376ed98ab6: Waiting\n",
      "bc3622fcfac4: Waiting\n",
      "9d95fde9a949: Waiting\n",
      "964ec2207535: Waiting\n",
      "062f8292fa36: Waiting\n",
      "58bdc6c643be: Waiting\n",
      "5316bb670a64: Waiting\n",
      "295cd596d59e: Waiting\n",
      "565c2c6c1ca7: Waiting\n",
      "7ff24a46c319: Waiting\n",
      "0e2d27f496bf: Waiting\n",
      "adedafa15dc0: Waiting\n",
      "ffe2bf41fa2b: Waiting\n",
      "508c51636b24: Waiting\n",
      "4ebd4a62fa18: Waiting\n",
      "aaca97dc6b81: Waiting\n",
      "2e24bb66a835: Waiting\n",
      "a51305765e40: Waiting\n",
      "459970c695fe: Waiting\n",
      "5dda9a74c409: Waiting\n",
      "adef6c78ff23: Waiting\n",
      "2c6ac8e5063e: Waiting\n",
      "f8f61fdf7ce4: Waiting\n",
      "cc967c529ced: Waiting\n",
      "f73c85960e15: Waiting\n",
      "6c01b5a53aac: Waiting\n",
      "e35c1be53e84: Waiting\n",
      "e0b3afb09dc3: Waiting\n",
      "6e87e486530a: Waiting\n",
      "9c8e65977edb: Waiting\n",
      "be79ee04c7cb: Waiting\n",
      "7455d5e9669c: Waiting\n",
      "e7eaf04b0a7c: Waiting\n",
      "d43f1f26bf85: Layer already exists\n",
      "827cbfa27659: Layer already exists\n",
      "68b96556e637: Layer already exists\n",
      "264e9008fe17: Layer already exists\n",
      "d7560acb5804: Layer already exists\n",
      "9dd3122bbb29: Layer already exists\n",
      "b0d61cbbf82b: Layer already exists\n",
      "b69007ff78b4: Layer already exists\n",
      "4da47c3967bd: Layer already exists\n",
      "1f8ffba58b5b: Layer already exists\n",
      "6237f614c34b: Layer already exists\n",
      "39a5ac1ec676: Layer already exists\n",
      "b95ba0ce0d05: Layer already exists\n",
      "0841a0f66fa2: Layer already exists\n",
      "7ff24a46c319: Layer already exists\n",
      "964ec2207535: Layer already exists\n",
      "5316bb670a64: Layer already exists\n",
      "ffe2bf41fa2b: Layer already exists\n",
      "4ebd4a62fa18: Layer already exists\n",
      "aaca97dc6b81: Layer already exists\n",
      "5dda9a74c409: Layer already exists\n",
      "2e24bb66a835: Layer already exists\n",
      "a51305765e40: Layer already exists\n",
      "459970c695fe: Layer already exists\n",
      "bc3622fcfac4: Layer already exists\n",
      "062f8292fa36: Layer already exists\n",
      "295cd596d59e: Layer already exists\n",
      "9c8e65977edb: Layer already exists\n",
      "0e2d27f496bf: Layer already exists\n",
      "7455d5e9669c: Layer already exists\n",
      "be79ee04c7cb: Layer already exists\n",
      "e7eaf04b0a7c: Layer already exists\n",
      "6e87e486530a: Layer already exists\n",
      "07d355b6a56c: Layer already exists\n",
      "b1d3bceeb07f: Layer already exists\n",
      "a0bebe136df7: Layer already exists\n",
      "111a107b0d73: Layer already exists\n",
      "e66c6ff180c5: Layer already exists\n",
      "f71fbaa8d7ac: Layer already exists\n",
      "3f04b5de30fe: Layer already exists\n",
      "b716a524126b: Layer already exists\n",
      "3510e2a8bb18: Layer already exists\n",
      "cfa9a81e4294: Layer already exists\n",
      "c37abfc1104a: Layer already exists\n",
      "4a461b14e46a: Layer already exists\n",
      "d7cbcee43962: Layer already exists\n",
      "2fd758fbadbe: Layer already exists\n",
      "29376ed98ab6: Layer already exists\n",
      "58bdc6c643be: Layer already exists\n",
      "9d95fde9a949: Layer already exists\n",
      "221e6eae7d02: Layer already exists\n",
      "565c2c6c1ca7: Layer already exists\n",
      "adedafa15dc0: Layer already exists\n",
      "ed4756d335c4: Layer already exists\n",
      "da726e533907: Layer already exists\n",
      "508c51636b24: Layer already exists\n",
      "3c9a751db107: Layer already exists\n",
      "2106c85f8c72: Layer already exists\n",
      "beb23c3afc15: Layer already exists\n",
      "5e264a05c849: Layer already exists\n",
      "de6c5dc71cb4: Layer already exists\n",
      "ae4e367d4ed5: Layer already exists\n",
      "adef6c78ff23: Layer already exists\n",
      "f8f61fdf7ce4: Layer already exists\n",
      "f73c85960e15: Layer already exists\n",
      "e0b3afb09dc3: Layer already exists\n",
      "e35c1be53e84: Layer already exists\n",
      "6c01b5a53aac: Layer already exists\n",
      "2c6ac8e5063e: Layer already exists\n",
      "cc967c529ced: Layer already exists\n",
      "latest: digest: sha256:c752bc5f511f3250ec93a123d30e44d6b893d1dd71f3b7665c557c1a5d982096 size: 14963\n"
     ]
    },
    {
     "name": "stderr",
     "output_type": "stream",
     "text": [
      "WARNING! Using --password via the CLI is insecure. Use --password-stdin.\n",
      "WARNING! Your password will be stored unencrypted in /home/ec2-user/.docker/config.json.\n",
      "Configure a credential helper to remove this warning. See\n",
      "https://docs.docker.com/engine/reference/commandline/login/#credentials-store\n",
      "\n",
      "COPY failed: stat /var/lib/docker/tmp/docker-builder085335422/.aws: no such file or directory\n"
     ]
    }
   ],
   "source": [
    "%%sh\n",
    "\n",
    "# The name of our algorithm\n",
    "algorithm_name=v1-sagemaker-ngc-tf21911-example\n",
    "\n",
    "cd container\n",
    "\n",
    "chmod +x cifar10/train\n",
    "chmod +x cifar10/serve\n",
    "\n",
    "account=$(aws sts get-caller-identity --query Account --output text)\n",
    "\n",
    "# Get the region defined in the current configuration (default to us-west-2 if none defined)\n",
    "region=$(aws configure get region)\n",
    "region=${region:-us-west-2}\n",
    "\n",
    "fullname=\"${account}.dkr.ecr.${region}.amazonaws.com/${algorithm_name}:latest\"\n",
    "\n",
    "# If the repository doesn't exist in ECR, create it.\n",
    "\n",
    "aws ecr describe-repositories --repository-names \"${algorithm_name}\" > /dev/null 2>&1\n",
    "\n",
    "if [ $? -ne 0 ]\n",
    "then\n",
    "    aws ecr create-repository --repository-name \"${algorithm_name}\" > /dev/null\n",
    "fi\n",
    "\n",
    "# Get the login command from ECR and execute it directly\n",
    "$(aws ecr get-login --region ${region} --no-include-email)\n",
    "\n",
    "# Build the docker image locally with the image name and then push it to ECR\n",
    "# with the full name.\n",
    "\n",
    "docker build  -t ${algorithm_name} .\n",
    "docker tag ${algorithm_name} ${fullname}\n",
    "\n",
    "docker push ${fullname}"
   ]
  },
  {
   "cell_type": "markdown",
   "metadata": {},
   "source": [
    "## Testing your algorithm on your local machine\n",
    "\n",
    "When you're packaging you first algorithm to use with Amazon SageMaker, you probably want to test it yourself to make sure it's working correctly. We use the [SageMaker Python SDK](https://github.com/aws/sagemaker-python-sdk) to test both locally and on SageMaker. For more examples with the SageMaker Python SDK, see [Amazon SageMaker Examples](https://github.com/awslabs/amazon-sagemaker-examples/tree/master/sagemaker-python-sdk). In order to test our algorithm, we need our dataset."
   ]
  },
  {
   "cell_type": "markdown",
   "metadata": {},
   "source": [
    "## Download the CIFAR-10 dataset\n",
    "Our training algorithm is expecting our training data to be in the file format of [TFRecords](https://www.tensorflow.org/guide/datasets), which is a simple record-oriented binary format that many TensorFlow applications use for training data.\n",
    "Below is a Python script adapted from the [official TensorFlow CIFAR-10 example](https://github.com/tensorflow/models/tree/master/tutorials/image/cifar10_estimator), which downloads the CIFAR-10 dataset and converts them into TFRecords."
   ]
  },
  {
   "cell_type": "code",
   "execution_count": 2,
   "metadata": {},
   "outputs": [
    {
     "name": "stdout",
     "output_type": "stream",
     "text": [
      "WARNING:tensorflow:From /home/ubuntu/anaconda3/envs/tensorflow_p36/lib/python3.6/site-packages/tensorflow_core/__init__.py:1467: The name tf.estimator.inputs is deprecated. Please use tf.compat.v1.estimator.inputs instead.\n",
      "\n",
      "Download from https://www.cs.toronto.edu/~kriz/cifar-10-python.tar.gz and extract.\n",
      "FloatProgress(value=0.0)\n",
      ">> Downloading cifar-10-python.tar.gz \n",
      "Successfully downloaded cifar-10-python.tar.gz 170498071 bytes.\n",
      "Generating /tmp/cifar-10-data/train.tfrecords\n",
      "WARNING:tensorflow:From utils/generate_cifar10_tfrecords.py:99: The name tf.python_io.TFRecordWriter is deprecated. Please use tf.io.TFRecordWriter instead.\n",
      "\n",
      "WARNING:tensorflow:From utils/generate_cifar10_tfrecords.py:88: The name tf.gfile.Open is deprecated. Please use tf.io.gfile.GFile instead.\n",
      "\n",
      "Generating /tmp/cifar-10-data/validation.tfrecords\n",
      "Generating /tmp/cifar-10-data/eval.tfrecords\n",
      "Removing original files.\n",
      "Done!\n"
     ]
    }
   ],
   "source": [
    "! python utils/generate_cifar10_tfrecords.py --data-dir=/tmp/cifar-10-data"
   ]
  },
  {
   "cell_type": "code",
   "execution_count": 9,
   "metadata": {},
   "outputs": [
    {
     "name": "stdout",
     "output_type": "stream",
     "text": [
      "eval.tfrecords\ttrain.tfrecords  validation.tfrecords\n"
     ]
    }
   ],
   "source": [
    "# There should be three tfrecords. (eval, train, validation)\n",
    "! ls /tmp/cifar-10-data"
   ]
  },
  {
   "cell_type": "markdown",
   "metadata": {},
   "source": [
    "## SageMaker Python SDK Local Training\n",
    "To represent our training, we use the Estimator class, which needs to be configured in five steps. \n",
    "1. IAM role - our AWS execution role\n",
    "2. train_instance_count - number of instances to use for training.\n",
    "3. train_instance_type - type of instance to use for training. For training locally, we specify `local`.\n",
    "4. image_name - our custom TensorFlow Docker image we created.\n",
    "5. hyperparameters - hyperparameters we want to pass.\n",
    "\n",
    "Let's start with setting up our IAM role. We make use of a helper function within the Python SDK. This function throw an exception if run outside of a SageMaker notebook instance, as it gets metadata from the notebook instance. If running outside, you must provide an IAM role with proper access stated above in [Permissions](#Permissions)."
   ]
  },
  {
   "cell_type": "code",
   "execution_count": 7,
   "metadata": {},
   "outputs": [],
   "source": [
    "from sagemaker import get_execution_role\n",
    "\n",
    "role = get_execution_role()"
   ]
  },
  {
   "cell_type": "markdown",
   "metadata": {},
   "source": [
    "## Fit, Deploy, Predict\n",
    "\n",
    "Now that the rest of our estimator is configured, we can call `fit()` with the path to our local CIFAR10 dataset prefixed with `file://`. This invokes our TensorFlow container with 'train' and passes in our hyperparameters and other metadata as json files in /opt/ml/input/config within the container.\n",
    "\n",
    "After our training has succeeded, our training algorithm outputs our trained model within the /opt/ml/model directory, which is used to handle predictions.\n",
    "\n",
    "We can then call `deploy()` with an instance_count and instance_type, which is 1 and `local`. This invokes our Tensorflow container with 'serve', which setups our container to handle prediction requests through TensorFlow Serving. What is returned is a predictor, which is used to make inferences against our trained model.\n",
    "\n",
    "After our prediction, we can delete our endpoint.\n",
    "\n",
    "We recommend testing and training your training algorithm locally first, as it provides quicker iterations and better debuggability."
   ]
  },
  {
   "cell_type": "code",
   "execution_count": 18,
   "metadata": {},
   "outputs": [
    {
     "name": "stdout",
     "output_type": "stream",
     "text": [
      "The user has root access.\n",
      "SageMaker instance route table setup is ok. We are good to go.\n",
      "SageMaker instance routing for Docker is ok. We are good to go!\n"
     ]
    }
   ],
   "source": [
    "# Lets set up our SageMaker notebook instance for local mode.\n",
    "!/bin/bash ./utils/setup.sh"
   ]
  },
  {
   "cell_type": "code",
   "execution_count": 19,
   "metadata": {},
   "outputs": [
    {
     "name": "stdout",
     "output_type": "stream",
     "text": [
      "Creating tmpdrr5e_4z_algo-1-gwef8_1 ... \n",
      "\u001b[1BAttaching to tmpdrr5e_4z_algo-1-gwef8_12mdone\u001b[0m\n",
      "\u001b[36malgo-1-gwef8_1  |\u001b[0m                                                                                                                                                 \n",
      "\u001b[36malgo-1-gwef8_1  |\u001b[0m ================\n",
      "\u001b[36malgo-1-gwef8_1  |\u001b[0m == TensorFlow ==\n",
      "\u001b[36malgo-1-gwef8_1  |\u001b[0m ================\n",
      "\u001b[36malgo-1-gwef8_1  |\u001b[0m \n",
      "\u001b[36malgo-1-gwef8_1  |\u001b[0m NVIDIA Release 19.11-tf2 (build 8776033)\n",
      "\u001b[36malgo-1-gwef8_1  |\u001b[0m TensorFlow Version 2.0.0\n",
      "\u001b[36malgo-1-gwef8_1  |\u001b[0m \n",
      "\u001b[36malgo-1-gwef8_1  |\u001b[0m Container image Copyright (c) 2019, NVIDIA CORPORATION.  All rights reserved.\n",
      "\u001b[36malgo-1-gwef8_1  |\u001b[0m Copyright 2017-2019 The TensorFlow Authors.  All rights reserved.\n",
      "\u001b[36malgo-1-gwef8_1  |\u001b[0m \n",
      "\u001b[36malgo-1-gwef8_1  |\u001b[0m Various files include modifications (c) NVIDIA CORPORATION.  All rights reserved.\n",
      "\u001b[36malgo-1-gwef8_1  |\u001b[0m NVIDIA modifications are covered by the license terms that apply to the underlying project or file.\n",
      "\u001b[36malgo-1-gwef8_1  |\u001b[0m \n",
      "\u001b[36malgo-1-gwef8_1  |\u001b[0m WARNING: The NVIDIA Driver was not detected.  GPU functionality will not be available.\n",
      "\u001b[36malgo-1-gwef8_1  |\u001b[0m    Use 'nvidia-docker run' to start this container; see\n",
      "\u001b[36malgo-1-gwef8_1  |\u001b[0m    https://github.com/NVIDIA/nvidia-docker/wiki/nvidia-docker .\n",
      "\u001b[36malgo-1-gwef8_1  |\u001b[0m \n",
      "\u001b[36malgo-1-gwef8_1  |\u001b[0m NOTE: MOFED driver for multi-node communication was not detected.\n",
      "\u001b[36malgo-1-gwef8_1  |\u001b[0m       Multi-node communication performance may be reduced.\n",
      "\u001b[36malgo-1-gwef8_1  |\u001b[0m \n",
      "\u001b[36malgo-1-gwef8_1  |\u001b[0m NOTE: The SHMEM allocation limit is set to the default of 64MB.  This may be\n",
      "\u001b[36malgo-1-gwef8_1  |\u001b[0m    insufficient for TensorFlow.  NVIDIA recommends the use of the following flags:\n",
      "\u001b[36malgo-1-gwef8_1  |\u001b[0m    nvidia-docker run --shm-size=1g --ulimit memlock=-1 --ulimit stack=67108864 ...\n",
      "\u001b[36malgo-1-gwef8_1  |\u001b[0m \n",
      "\u001b[36malgo-1-gwef8_1  |\u001b[0m Training complete.\n",
      "\u001b[36mtmpdrr5e_4z_algo-1-gwef8_1 exited with code 0\n",
      "\u001b[0mAborting on container exit...\n",
      "===== Job Complete =====\n",
      "!"
     ]
    },
    {
     "name": "stderr",
     "output_type": "stream",
     "text": [
      "Exception in thread Thread-4:\n",
      "Traceback (most recent call last):\n",
      "  File \"/home/ec2-user/anaconda3/envs/tensorflow_p36/lib/python3.6/site-packages/sagemaker/local/image.py\", line 618, in run\n",
      "    _stream_output(self.process)\n",
      "  File \"/home/ec2-user/anaconda3/envs/tensorflow_p36/lib/python3.6/site-packages/sagemaker/local/image.py\", line 677, in _stream_output\n",
      "    raise RuntimeError(\"Process exited with code: %s\" % exit_code)\n",
      "RuntimeError: Process exited with code: 1\n",
      "\n",
      "During handling of the above exception, another exception occurred:\n",
      "\n",
      "Traceback (most recent call last):\n",
      "  File \"/home/ec2-user/anaconda3/envs/tensorflow_p36/lib/python3.6/threading.py\", line 916, in _bootstrap_inner\n",
      "    self.run()\n",
      "  File \"/home/ec2-user/anaconda3/envs/tensorflow_p36/lib/python3.6/site-packages/sagemaker/local/image.py\", line 623, in run\n",
      "    raise RuntimeError(msg)\n",
      "RuntimeError: Failed to run: ['docker-compose', '-f', '/tmp/tmpomaaer6e/docker-compose.yaml', 'up', '--build', '--abort-on-container-exit'], Process exited with code: 1\n",
      "\n"
     ]
    }
   ],
   "source": [
    "from sagemaker.estimator import Estimator\n",
    "\n",
    "hyperparameters = {'train-steps': 100}\n",
    "\n",
    "instance_type = 'local'\n",
    "\n",
    "estimator = Estimator(role=role,\n",
    "                      train_instance_count=1,\n",
    "                      train_instance_type=instance_type,\n",
    "                      image_name='v1-sagemaker-ngc-tf21911-example',\n",
    "                      hyperparameters=hyperparameters)\n",
    "\n",
    "estimator.fit('file:///tmp/cifar-10-data')\n",
    "\n",
    "predictor = estimator.deploy(1, instance_type)"
   ]
  },
  {
   "cell_type": "markdown",
   "metadata": {},
   "source": [
    "## Making predictions using Python SDK\n",
    "\n",
    "To make predictions, we use an image that is converted using OpenCV into a json format to send as an inference request. We need to install OpenCV to deserialize the image that is used to make predictions.\n",
    "\n",
    "The JSON reponse will be the probabilities of the image belonging to one of the 10 classes along with the most likely class the picture belongs to. The classes can be referenced from the [CIFAR-10 website](https://www.cs.toronto.edu/~kriz/cifar.html). Since we didn't train the model for that long, we aren't expecting very accurate results."
   ]
  },
  {
   "cell_type": "code",
   "execution_count": 8,
   "metadata": {},
   "outputs": [
    {
     "name": "stdout",
     "output_type": "stream",
     "text": [
      "Requirement already satisfied: opencv-python in /home/ec2-user/anaconda3/envs/tensorflow_p36/lib/python3.6/site-packages (3.4.2.17)\n",
      "Requirement already satisfied: numpy>=1.11.3 in /home/ec2-user/anaconda3/envs/tensorflow_p36/lib/python3.6/site-packages (from opencv-python) (1.16.4)\n",
      "\u001b[33mWARNING: You are using pip version 19.3.1; however, version 20.1 is available.\n",
      "You should consider upgrading via the 'pip install --upgrade pip' command.\u001b[0m\n"
     ]
    }
   ],
   "source": [
    "! pip install opencv-python"
   ]
  },
  {
   "cell_type": "code",
   "execution_count": 10,
   "metadata": {},
   "outputs": [
    {
     "ename": "NameError",
     "evalue": "name 'predictor' is not defined",
     "output_type": "error",
     "traceback": [
      "\u001b[0;31m---------------------------------------------------------------------------\u001b[0m",
      "\u001b[0;31mNameError\u001b[0m                                 Traceback (most recent call last)",
      "\u001b[0;32m<ipython-input-10-18fef9f1b247>\u001b[0m in \u001b[0;36m<module>\u001b[0;34m()\u001b[0m\n\u001b[1;32m     13\u001b[0m \u001b[0;31m# The request and response format is JSON for TensorFlow Serving.\u001b[0m\u001b[0;34m\u001b[0m\u001b[0;34m\u001b[0m\u001b[0m\n\u001b[1;32m     14\u001b[0m \u001b[0;31m# For more information: https://www.tensorflow.org/serving/api_rest#predict_api\u001b[0m\u001b[0;34m\u001b[0m\u001b[0;34m\u001b[0m\u001b[0m\n\u001b[0;32m---> 15\u001b[0;31m \u001b[0mpredictor\u001b[0m\u001b[0;34m.\u001b[0m\u001b[0maccept\u001b[0m \u001b[0;34m=\u001b[0m \u001b[0;34m'application/json'\u001b[0m\u001b[0;34m\u001b[0m\u001b[0m\n\u001b[0m\u001b[1;32m     16\u001b[0m \u001b[0mpredictor\u001b[0m\u001b[0;34m.\u001b[0m\u001b[0mcontent_type\u001b[0m \u001b[0;34m=\u001b[0m \u001b[0;34m'application/json'\u001b[0m\u001b[0;34m\u001b[0m\u001b[0m\n\u001b[1;32m     17\u001b[0m \u001b[0;34m\u001b[0m\u001b[0m\n",
      "\u001b[0;31mNameError\u001b[0m: name 'predictor' is not defined"
     ]
    }
   ],
   "source": [
    "import cv2\n",
    "import numpy\n",
    "\n",
    "from sagemaker.predictor import json_serializer, json_deserializer\n",
    "\n",
    "image = cv2.imread(\"data/cat.png\", 1)\n",
    "\n",
    "# resize, as our model is expecting images in 32x32.\n",
    "image = cv2.resize(image, (32, 32))\n",
    "\n",
    "data = {'instances': numpy.asarray(image).astype(float).tolist()}\n",
    "\n",
    "# The request and response format is JSON for TensorFlow Serving.\n",
    "# For more information: https://www.tensorflow.org/serving/api_rest#predict_api\n",
    "predictor.accept = 'application/json'\n",
    "predictor.content_type = 'application/json'\n",
    "\n",
    "predictor.serializer = json_serializer\n",
    "predictor.deserializer = json_deserializer\n",
    "\n",
    "# For more information on the predictor class.\n",
    "# https://github.com/aws/sagemaker-python-sdk/blob/master/src/sagemaker/predictor.py\n",
    "predictor.predict(data)"
   ]
  },
  {
   "cell_type": "code",
   "execution_count": 10,
   "metadata": {},
   "outputs": [
    {
     "name": "stdout",
     "output_type": "stream",
     "text": [
      "Gracefully stopping... (press Ctrl+C again to force)\n"
     ]
    }
   ],
   "source": [
    "predictor.delete_endpoint()"
   ]
  },
  {
   "cell_type": "markdown",
   "metadata": {},
   "source": [
    "# Part 2: Training and Hosting your Algorithm in Amazon SageMaker\n",
    "Once you have your container packaged, you can use it to train and serve models. Let's do that with the algorithm we made above.\n",
    "\n",
    "## Set up the environment\n",
    "Here we specify the bucket to use and the role that is used for working with SageMaker."
   ]
  },
  {
   "cell_type": "code",
   "execution_count": 3,
   "metadata": {},
   "outputs": [],
   "source": [
    "# S3 prefix\n",
    "prefix = 'DEMO-tensorflow-cifar10'"
   ]
  },
  {
   "cell_type": "markdown",
   "metadata": {},
   "source": [
    "## Create the session\n",
    "\n",
    "The session remembers our connection parameters to SageMaker. We use it to perform all of our SageMaker operations."
   ]
  },
  {
   "cell_type": "code",
   "execution_count": 4,
   "metadata": {},
   "outputs": [],
   "source": [
    "import sagemaker as sage\n",
    "\n",
    "sess = sage.Session()"
   ]
  },
  {
   "cell_type": "markdown",
   "metadata": {},
   "source": [
    "## Upload the data for training\n",
    "\n",
    "We will use the tools provided by the SageMaker Python SDK to upload the data to a default bucket."
   ]
  },
  {
   "cell_type": "code",
   "execution_count": 11,
   "metadata": {},
   "outputs": [],
   "source": [
    "WORK_DIRECTORY = '/tmp/cifar-10-data'\n",
    "\n",
    "data_location = sess.upload_data(WORK_DIRECTORY, key_prefix=prefix)"
   ]
  },
  {
   "cell_type": "markdown",
   "metadata": {},
   "source": [
    "## Training on SageMaker\n",
    "Training a model on SageMaker with the Python SDK is done in a way that is similar to the way we trained it locally. This is done by changing our train_instance_type from `local` to one of our [supported EC2 instance types](https://aws.amazon.com/sagemaker/pricing/instance-types/).\n",
    "\n",
    "In addition, we must now specify the ECR image URL, which we just pushed above.\n",
    "\n",
    "Finally, our local training dataset has to be in Amazon S3 and the S3 URL to our dataset is passed into the `fit()` call.\n",
    "\n",
    "Let's first fetch our ECR image url that corresponds to the image we just built and pushed."
   ]
  },
  {
   "cell_type": "code",
   "execution_count": 14,
   "metadata": {},
   "outputs": [
    {
     "name": "stdout",
     "output_type": "stream",
     "text": [
      "209419068016.dkr.ecr.us-east-1.amazonaws.com/v1-sagemaker-ngc-tf21911-example:latest\n"
     ]
    }
   ],
   "source": [
    "import boto3\n",
    "\n",
    "client = boto3.client('sts')\n",
    "account = client.get_caller_identity()['Account']\n",
    "\n",
    "my_session = boto3.session.Session()\n",
    "region = my_session.region_name\n",
    "\n",
    "algorithm_name = 'v1-sagemaker-ngc-tf21911-example'\n",
    "\n",
    "ecr_image = '{}.dkr.ecr.{}.amazonaws.com/{}:latest'.format(account, region, algorithm_name)\n",
    "\n",
    "print(ecr_image)"
   ]
  },
  {
   "cell_type": "code",
   "execution_count": 15,
   "metadata": {},
   "outputs": [
    {
     "name": "stdout",
     "output_type": "stream",
     "text": [
      "2020-07-09 20:23:09 Starting - Starting the training job...\n",
      "2020-07-09 20:23:12 Starting - Launching requested ML instances.........\n",
      "2020-07-09 20:24:57 Starting - Preparing the instances for training......\n",
      "2020-07-09 20:26:00 Downloading - Downloading input data...\n",
      "2020-07-09 20:26:21 Training - Downloading the training image.................\u001b[34m================\u001b[0m\n",
      "\u001b[34m== TensorFlow ==\u001b[0m\n",
      "\u001b[34m================\n",
      "\u001b[0m\n",
      "\u001b[34mNVIDIA Release 19.11-tf2 (build 8776033)\u001b[0m\n",
      "\u001b[34mTensorFlow Version 2.0.0\n",
      "\u001b[0m\n",
      "\u001b[34mContainer image Copyright (c) 2019, NVIDIA CORPORATION.  All rights reserved.\u001b[0m\n",
      "\u001b[34mCopyright 2017-2019 The TensorFlow Authors.  All rights reserved.\n",
      "\u001b[0m\n",
      "\u001b[34mVarious files include modifications (c) NVIDIA CORPORATION.  All rights reserved.\u001b[0m\n",
      "\u001b[34mNVIDIA modifications are covered by the license terms that apply to the underlying project or file.\u001b[0m\n",
      "\u001b[34mNOTE: MOFED driver for multi-node communication was not detected.\n",
      "      Multi-node communication performance may be reduced.\n",
      "\u001b[0m\n",
      "\n",
      "2020-07-09 20:29:18 Training - Training image download completed. Training in progress.\n",
      "2020-07-09 20:30:59 Uploading - Uploading generated training model\u001b[34mTraining complete.\u001b[0m\n",
      "\n",
      "2020-07-09 20:32:10 Completed - Training job completed\n",
      "Training seconds: 370\n",
      "Billable seconds: 370\n",
      "------------------!"
     ]
    }
   ],
   "source": [
    "from sagemaker.estimator import Estimator\n",
    "\n",
    "hyperparameters = {'train-steps': 1}\n",
    "\n",
    "instance_type = 'ml.p3.8xlarge'\n",
    "\n",
    "estimator = Estimator(role=role,\n",
    "                      train_instance_count=1,\n",
    "                      train_instance_type=instance_type,\n",
    "                      image_name=ecr_image,\n",
    "                      hyperparameters=hyperparameters)\n",
    "\n",
    "estimator.fit(data_location)\n",
    "\n"
   ]
  },
  {
   "cell_type": "markdown",
   "metadata": {},
   "source": [
    "Deployment:"
   ]
  },
  {
   "cell_type": "code",
   "execution_count": 2,
   "metadata": {},
   "outputs": [
    {
     "ename": "NameError",
     "evalue": "name 'role' is not defined",
     "output_type": "error",
     "traceback": [
      "\u001b[0;31m---------------------------------------------------------------------------\u001b[0m",
      "\u001b[0;31mNameError\u001b[0m                                 Traceback (most recent call last)",
      "\u001b[0;32m<ipython-input-2-4b2f08cf7a65>\u001b[0m in \u001b[0;36m<module>\u001b[0;34m()\u001b[0m\n\u001b[1;32m      6\u001b[0m \u001b[0msaved_model\u001b[0m \u001b[0;34m=\u001b[0m \u001b[0;34m''\u001b[0m\u001b[0;34m\u001b[0m\u001b[0m\n\u001b[1;32m      7\u001b[0m tensorflow_model = Model(model_data=saved_model,\n\u001b[0;32m----> 8\u001b[0;31m                          \u001b[0mrole\u001b[0m\u001b[0;34m=\u001b[0m\u001b[0mrole\u001b[0m\u001b[0;34m,\u001b[0m\u001b[0;34m\u001b[0m\u001b[0m\n\u001b[0m\u001b[1;32m      9\u001b[0m                          framework_version='1.14')\n\u001b[1;32m     10\u001b[0m \u001b[0;34m\u001b[0m\u001b[0m\n",
      "\u001b[0;31mNameError\u001b[0m: name 'role' is not defined"
     ]
    }
   ],
   "source": [
    "# to deploy a model you trained in the same notebook\n",
    "predictor = estimator.deploy(1, instance_type)\n",
    "\n",
    "# to deploy a model \n",
    "from sagemaker.tensorflow.serving import Model\n",
    "\n",
    "saved_model = ''\n",
    "tensorflow_model = Model(model_data=saved_model,\n",
    "                         role=role,\n",
    "                         framework_version='1.14')\n",
    "\n",
    "predictor = tensorflow_model.deploy(initial_instance_count=1,\n",
    "                                    instance_type='ml.m4.xlarge')\n"
   ]
  },
  {
   "cell_type": "code",
   "execution_count": 16,
   "metadata": {},
   "outputs": [],
   "source": [
    "import cv2\n",
    "import numpy\n",
    "from sagemaker.predictor import json_serializer, json_deserializer"
   ]
  },
  {
   "cell_type": "code",
   "execution_count": 17,
   "metadata": {},
   "outputs": [
    {
     "data": {
      "text/plain": [
       "{'predictions': [{'probabilities': [1.56794248e-15,\n",
       "    3.45426018e-16,\n",
       "    2.23523863e-15,\n",
       "    5.76831449e-16,\n",
       "    8.70527354e-15,\n",
       "    1.33163635e-13,\n",
       "    1.30927489e-31,\n",
       "    1.0,\n",
       "    1.3140407e-20,\n",
       "    6.41450586e-16],\n",
       "   'classes': 7}]}"
      ]
     },
     "execution_count": 17,
     "metadata": {},
     "output_type": "execute_result"
    }
   ],
   "source": [
    "image = cv2.imread(\"data/cat.png\", 1)\n",
    "\n",
    "# resize, as our model is expecting images in 32x32.\n",
    "image = cv2.resize(image, (32, 32))\n",
    "\n",
    "data = {'instances': numpy.asarray(image).astype(float).tolist()}\n",
    "\n",
    "predictor.accept = 'application/json'\n",
    "predictor.content_type = 'application/json'\n",
    "\n",
    "predictor.serializer = json_serializer\n",
    "predictor.deserializer = json_deserializer\n",
    "\n",
    "predictor.predict(data)"
   ]
  },
  {
   "cell_type": "markdown",
   "metadata": {},
   "source": [
    "## Optional cleanup\n",
    "When you're done with the endpoint, you should clean it up.\n",
    "\n",
    "All of the training jobs, models and endpoints we created can be viewed through the SageMaker console of your AWS account."
   ]
  },
  {
   "cell_type": "code",
   "execution_count": 20,
   "metadata": {},
   "outputs": [],
   "source": [
    "predictor.delete_endpoint()"
   ]
  },
  {
   "cell_type": "markdown",
   "metadata": {},
   "source": [
    "# Reference\n",
    "- [How Amazon SageMaker interacts with your Docker container for training](https://docs.aws.amazon.com/sagemaker/latest/dg/your-algorithms-training-algo.html)\n",
    "- [How Amazon SageMaker interacts with your Docker container for inference](https://docs.aws.amazon.com/sagemaker/latest/dg/your-algorithms-inference-code.html)\n",
    "- [CIFAR-10 Dataset](https://www.cs.toronto.edu/~kriz/cifar.html)\n",
    "- [SageMaker Python SDK](https://github.com/aws/sagemaker-python-sdk)\n",
    "- [Dockerfile](https://docs.docker.com/engine/reference/builder/)\n",
    "- [scikit-bring-your-own](https://github.com/awslabs/amazon-sagemaker-examples/blob/master/advanced_functionality/scikit_bring_your_own/scikit_bring_your_own.ipynb)"
   ]
  }
 ],
 "metadata": {
  "kernelspec": {
   "display_name": "conda_tensorflow_p36",
   "language": "python",
   "name": "conda_tensorflow_p36"
  },
  "language_info": {
   "codemirror_mode": {
    "name": "ipython",
    "version": 3
   },
   "file_extension": ".py",
   "mimetype": "text/x-python",
   "name": "python",
   "nbconvert_exporter": "python",
   "pygments_lexer": "ipython3",
   "version": "3.6.6"
  }
 },
 "nbformat": 4,
 "nbformat_minor": 4
}
